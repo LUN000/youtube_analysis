{
 "cells": [
  {
   "cell_type": "markdown",
   "id": "041f2815",
   "metadata": {},
   "source": [
    "# Pandas profile EDA 報表"
   ]
  },
  {
   "cell_type": "code",
   "execution_count": 1,
   "id": "f67f4268",
   "metadata": {},
   "outputs": [],
   "source": [
    "from datetime import datetime\n",
    "import numpy\n",
    "import pandas as pd\n",
    "from pandas_profiling import ProfileReport\n",
    "import matplotlib.pyplot as plt"
   ]
  },
  {
   "cell_type": "markdown",
   "id": "aa52cda4",
   "metadata": {},
   "source": [
    "## datetime 轉換"
   ]
  },
  {
   "cell_type": "code",
   "execution_count": null,
   "id": "9667e53a",
   "metadata": {},
   "outputs": [],
   "source": [
    "file = \"taitra_all/表格資料.csv\"\n",
    "\n",
    "df = pd.read_csv(file, index_col=None).drop(0)\n",
    "for i in df.index:\n",
    "    time = df.loc[i][\"release time\"]\n",
    "    try:\n",
    "        t = datetime.strptime(time, '%b %d, %Y')\n",
    "        df.at[i,\"release time\"]= t\n",
    "    except:\n",
    "        df = df.drop(i)\n",
    "\n",
    "df = df.sort_values(['release time']).reset_index(drop=True)\n",
    "df = df.reset_index()\n",
    "df.to_csv(\"taitra_all/表格資料_edit.csv\",index=False)"
   ]
  },
  {
   "cell_type": "markdown",
   "id": "dc1c4c15",
   "metadata": {},
   "source": [
    "## pandas profile"
   ]
  },
  {
   "cell_type": "code",
   "execution_count": 2,
   "id": "c2c6af78",
   "metadata": {},
   "outputs": [
    {
     "data": {
      "application/vnd.jupyter.widget-view+json": {
       "model_id": "8347a1c9e9b0470abdff063dfac48239",
       "version_major": 2,
       "version_minor": 0
      },
      "text/plain": [
       "Summarize dataset:   0%|          | 0/5 [00:00<?, ?it/s]"
      ]
     },
     "metadata": {},
     "output_type": "display_data"
    },
    {
     "data": {
      "application/vnd.jupyter.widget-view+json": {
       "model_id": "48571ff0f0f64cb79ecedf45cf0e8cb8",
       "version_major": 2,
       "version_minor": 0
      },
      "text/plain": [
       "Generate report structure:   0%|          | 0/1 [00:00<?, ?it/s]"
      ]
     },
     "metadata": {},
     "output_type": "display_data"
    },
    {
     "name": "stderr",
     "output_type": "stream",
     "text": [
      "findfont: Font family ['sans-serif'] not found. Falling back to DejaVu Sans.\n",
      "findfont: Generic family 'sans-serif' not found because none of the following families were found: kaiu\n",
      "findfont: Font family ['sans-serif'] not found. Falling back to DejaVu Sans.\n",
      "findfont: Generic family 'sans-serif' not found because none of the following families were found: kaiu\n",
      "findfont: Font family ['sans-serif'] not found. Falling back to DejaVu Sans.\n",
      "findfont: Generic family 'sans-serif' not found because none of the following families were found: kaiu\n",
      "C:\\pyenv\\py37env01\\lib\\site-packages\\pandas_profiling\\visualisation\\utils.py:77: UserWarning: Glyph 8722 (\\N{MINUS SIGN}) missing from current font.\n",
      "  bbox_inches=bbox_inches,\n",
      "C:\\pyenv\\py37env01\\lib\\site-packages\\pandas_profiling\\visualisation\\utils.py:77: UserWarning: Glyph 8722 (\\N{MINUS SIGN}) missing from current font.\n",
      "  bbox_inches=bbox_inches,\n",
      "C:\\pyenv\\py37env01\\lib\\site-packages\\pandas_profiling\\visualisation\\utils.py:77: UserWarning: Glyph 8722 (\\N{MINUS SIGN}) missing from current font.\n",
      "  bbox_inches=bbox_inches,\n"
     ]
    },
    {
     "data": {
      "application/vnd.jupyter.widget-view+json": {
       "model_id": "c86ebe7f515c4e6e90073aaa532fb8c9",
       "version_major": 2,
       "version_minor": 0
      },
      "text/plain": [
       "Render HTML:   0%|          | 0/1 [00:00<?, ?it/s]"
      ]
     },
     "metadata": {},
     "output_type": "display_data"
    },
    {
     "data": {
      "application/vnd.jupyter.widget-view+json": {
       "model_id": "7eff7cd66fa04b29a62b6172b5095e68",
       "version_major": 2,
       "version_minor": 0
      },
      "text/plain": [
       "Export report to file:   0%|          | 0/1 [00:00<?, ?it/s]"
      ]
     },
     "metadata": {},
     "output_type": "display_data"
    }
   ],
   "source": [
    "df = pd.read_csv(\"taitra_all/表格資料_edit_thumbnails.csv\")\n",
    "df = df.drop([\"id\",\"title\",\"subscribes\",\"release time\",\"colors\",\"proportion\",\"hsv_colors\",\"product\",\"form\"],axis=1)\n",
    "df.to_csv(\"taitra_all/taitra_encode.csv\", index=False)\n",
    "\n",
    "profile = ProfileReport(df, title=\"taitra Profiling Report\", html={'style': \n",
    "          {'full_width': True,\n",
    "           'theme':'flatly'} #available theme options: ‘bootswatch’ ,'flatly','united'\n",
    "        })\n",
    "profile.to_file(\"taitra_all/taitra_thumbnail.html\")"
   ]
  },
  {
   "cell_type": "code",
   "execution_count": null,
   "id": "0c1e5ed4",
   "metadata": {},
   "outputs": [],
   "source": [
    "df = pd.read_csv(\"taitra_all/表格資料_edit_thumbnails.csv\")\n",
    "df"
   ]
  }
 ],
 "metadata": {
  "kernelspec": {
   "display_name": "Python 3 (ipykernel)",
   "language": "python",
   "name": "python3"
  },
  "language_info": {
   "codemirror_mode": {
    "name": "ipython",
    "version": 3
   },
   "file_extension": ".py",
   "mimetype": "text/x-python",
   "name": "python",
   "nbconvert_exporter": "python",
   "pygments_lexer": "ipython3",
   "version": "3.7.9"
  }
 },
 "nbformat": 4,
 "nbformat_minor": 5
}
