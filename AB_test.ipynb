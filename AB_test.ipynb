{
 "cells": [
  {
   "cell_type": "code",
   "execution_count": null,
   "id": "0f07a314",
   "metadata": {},
   "outputs": [],
   "source": [
    "import pandas as pd\n",
    "import numpy as np\n",
    "import matplotlib.pyplot as plt"
   ]
  },
  {
   "cell_type": "code",
   "execution_count": null,
   "id": "868cf44d",
   "metadata": {},
   "outputs": [],
   "source": [
    "def process(data):\n",
    "    median_y = data['y'].sort_values(ignore_index=True)[len(data)/2]\n",
    "    mean_y = sum(data['y']) / len(data)\n",
    "\n",
    "    mask = data['y'] > median_y\n",
    "    sucess, slen = data[mask], len(data[mask])\n",
    "    failed, flen = data[mask == False], len(data) - sucess\n",
    "    return median_y, mean_y, sucess, slen, failed, flen\n",
    "\n",
    "def probability(data, sucess, failed):\n",
    "    \"\"\"\n",
    "    p(x | sucess) & p(x | failed)\n",
    "    \"\"\"\n",
    "    p = {\"x\":[], \"sp\":[], \"fp\":[]}\n",
    "    minc, maxc = int(min(data['x'])), int(max(data['x'])+1)\n",
    "    step = 5\n",
    "    for x in np.arange(minc, maxc, step):\n",
    "        mask = (data['x'] < x+step/2) & (x-step/2 <= data['x'])\n",
    "        sp = len(sucess[mask]) / len(sucess)\n",
    "        fp = len(failed[mask]) / len(failed)\n",
    "        p['x'].append(x)\n",
    "        p['sp'].append(sp)\n",
    "        p['fp'].append(fp)\n",
    "    return pd.DataFrame(p)\n",
    "\n",
    "def bayes(data,sucess, failed, p):\n",
    "    \"\"\"\n",
    "    p(sucess | x) & p(filaed | x)\n",
    "    \"\"\"\n",
    "    bayes = {\"x\":[], \"spc\":[], \"fpc\":[]}\n",
    "    for index, item in p.iterrows():\n",
    "        mask = (data['x'] < item['x']+2.5) & (item['x']-2.5 <= data['x'])\n",
    "        spc = (len(sucess)/len(data)) * item['sp'] / (len(data[mask])/len(data))\n",
    "        fpc = (len(failed)/len(data)) * item['fp'] / (len(data[mask])/len(data))\n",
    "        bayes['x'].append(item['x'])\n",
    "        bayes['spc'].append(spc)\n",
    "        bayes['fpc'].append(fpc)\n",
    "    return pd.DataFrame(bayes)\n",
    "\n",
    "def interval_data(df, column, group):\n",
    "    \"\"\"\n",
    "    自訂 x 軸分資料區間，區間內對 ctr, y, watchtimes, impressions 取平均值\n",
    "    \"\"\"\n",
    "    df = df.sort_values(column)\n",
    "    start =min(df[column].values)\n",
    "    end = max(df[column].values)\n",
    "    step = len(df)//(group-1)\n",
    "    interval = list(df[0::step][column])\n",
    "    data = {f\"interval_{column}\":interval}\n",
    "    y_mean = []\n",
    "    y_std = []\n",
    "    \n",
    "    for i in range(len(interval)):\n",
    "        mask = (df[column] < interval[i]) & (df[column] >= interval[i-1])\n",
    "        \n",
    "        inv_y = np.mean(df[mask][\"y\"])\n",
    "        inv_y_std = np.std((df[mask][\"y\"]), ddof=1)\n",
    "        \n",
    "        y_mean.append(inv_y), y_std.append(inv_y_std)\n",
    "        \n",
    "    data.update([(\"y_mean\", y_mean)])\n",
    "    data.update([(\"y_std\", y_std)])\n",
    "    data = pd.DataFrame(data).drop([0])\n",
    "    return data\n",
    "\n",
    "def c_data(df, column,group):\n",
    "    \"\"\"\n",
    "    自訂 x 軸分資料區間，區間內對 ctr, y, watchtimes, impressions 取平均值\n",
    "    \"\"\"\n",
    "    df = df.sort_values(column)\n",
    "    start =min(df[column].values)\n",
    "    end = max(df[column].values)\n",
    "    step = (-start+end)//group\n",
    "    interval = list(np.arange(start,end,step))\n",
    "    data = {f\"interval_{column}\":interval[1:]}\n",
    "    y_mean = []\n",
    "    y_std = []\n",
    "    \n",
    "    for i in range(len(interval)-1):\n",
    "        upper = interval[i+1]\n",
    "        bound = interval[i]\n",
    "        mask = (df[column] >= bound) & (df[column] < upper)\n",
    "        \n",
    "        inv_y = np.mean(df[mask][\"y\"])\n",
    "        inv_y_std = np.std((df[mask][\"y\"]), ddof=1)\n",
    "        \n",
    "        y_mean.append(inv_y), y_std.append(inv_y_std)\n",
    "        \n",
    "    data.update([(\"y_mean\",y_mean)])\n",
    "    data.update([(\"y_std\",y_std)])\n",
    "    data = pd.DataFrame(data)\n",
    "    return data"
   ]
  },
  {
   "cell_type": "markdown",
   "id": "a7e12c55",
   "metadata": {},
   "source": [
    "# Exist data"
   ]
  },
  {
   "cell_type": "code",
   "execution_count": null,
   "id": "2b89530f",
   "metadata": {},
   "outputs": [],
   "source": [
    "e_data = pd.read_csv(\"taitra_all/first_test/表格資料_edit_thumbnails.csv\")\n",
    "e_data = pd.DataFrame({'x':e_data['x'], 'y':e_data['y']})\n",
    "emedian_y, emean_y, esucess, eslen, efailed, eflen = process(e_data)\n",
    "print(\"中位觀看:\",emedian_y)\n",
    "plt.figure(facecolor=\"gray\")\n",
    "plt.scatter(esucess['x'],esucess['y'])\n",
    "plt.scatter(efailed['x'],efailed['y'], color='r')\n",
    "plt.xlim(22,100)"
   ]
  },
  {
   "cell_type": "code",
   "execution_count": null,
   "id": "d3e2c07e",
   "metadata": {
    "scrolled": true
   },
   "outputs": [],
   "source": [
    "# p(x | sucess) & p(x | failed)\n",
    "ep = probability(e_data, esucess, efailed)\n",
    "plt.figure(facecolor='gray')\n",
    "plt.plot(ep['x'], ep['sp'])\n",
    "plt.plot(ep['x'], ep['fp'], color = 'r')\n",
    "\n",
    "legend = plt.legend(['above','below'])\n",
    "legend._legend_box.sep = 20\n",
    "plt.title(\"p(x | sucess) & p(x | failed)\")\n",
    "plt.ylabel(\"probability\")\n",
    "plt.xlabel(\"x\")\n",
    "plt.xlim(22,100)"
   ]
  },
  {
   "cell_type": "code",
   "execution_count": null,
   "id": "b10eedcb",
   "metadata": {},
   "outputs": [],
   "source": [
    "# p(sucess | x) & p(filaed | x)\n",
    "ebayes = bayes(e_data, esucess, efailed, ep)\n",
    "# bayes\n",
    "plt.figure(facecolor=\"gray\")\n",
    "plt.plot(ebayes['x'], ebayes['spc'])\n",
    "plt.plot(ebayes['x'], ebayes['fpc'], color = 'r')\n",
    "legend = plt.legend(['above','below'])\n",
    "legend._legend_box.sep = 20\n",
    "plt.title(\"p(sucess | x) & p(filaed | x)\")\n",
    "plt.ylabel(\"probability\")\n",
    "plt.xlabel(\"x\")\n",
    "plt.xlim(22,100)"
   ]
  },
  {
   "cell_type": "code",
   "execution_count": null,
   "id": "28d59b19",
   "metadata": {},
   "outputs": [],
   "source": [
    "plt.figure(facecolor=\"gray\")\n",
    "plt.bar(ebayes['x'], 1, width=5)\n",
    "plt.bar(ebayes['x'], ebayes['fpc'], width=5, color='r', edgecolor='w')\n",
    "plt.title(\"p(sucess | x) & p(filaed | x)\")\n",
    "plt.ylabel(\"probability\")\n",
    "plt.xlabel(\"x\")\n",
    "legend = plt.legend(['above','below'])"
   ]
  },
  {
   "cell_type": "code",
   "execution_count": null,
   "id": "d2adff26",
   "metadata": {},
   "outputs": [],
   "source": [
    "count = {\"x\":[], \"count\":[]}\n",
    "for c in ebayes['x']:\n",
    "    mask = (e_data['x'] < c+2.5) & (e_data['x'] >= c-2.5)\n",
    "    count['count'].append(len(e_data[mask]))\n",
    "    count['x'].append(c)\n",
    "    \n",
    "count = pd.DataFrame(count)\n",
    "plt.plot(count['x'], count['count'])"
   ]
  },
  {
   "cell_type": "code",
   "execution_count": null,
   "id": "4740c8b4",
   "metadata": {},
   "outputs": [],
   "source": [
    "e_interval = c_data(e_data, 'x', 5)\n",
    "plt.figure(facecolor=\"gray\")\n",
    "plt.plot(e_interval['interval_x'],e_interval['y_mean'])\n",
    "plt.ylabel(\"y\")\n",
    "plt.xlabel(\"x\")"
   ]
  },
  {
   "cell_type": "markdown",
   "id": "333310dd",
   "metadata": {},
   "source": [
    "# ABtest data"
   ]
  },
  {
   "cell_type": "code",
   "execution_count": null,
   "id": "d74b9cc7",
   "metadata": {},
   "outputs": [],
   "source": [
    "y = [\n",
    "    57.0, 121.0, 290.0, 5.0, 84.0, 35.0, \n",
    "    48.0, 16.0, 95.0, 3.0, 53.0, 106.0,\n",
    "    76.0, 48.0, 10.0, 89.0, 16.0, 211.0,\n",
    "    9.0, 1.0, 16.0, 89.0, 2.0, 0.0, \n",
    "    2.0, 43.0, 129.0, 80.0, 105.0, 52.0,\n",
    "    22.0, 2.0, 11.0, 58.0, 24.0, 3.0,\n",
    "    1.0, 5.0, 87.0, 21.0, 129.0, 249.0,\n",
    "    2.0, 12.0, 0.0, 0, 119.0, 30.0,\n",
    "    84.0, 36.0, 26.0, 7.0, 124.0, 159.0,\n",
    "    66.0, 65.0, 33.0, 17.0, 66.0, 135.0,\n",
    "    0.0, 27.0, 2.0, 3.0, 0, 75.0, 54.0,\n",
    "    39.0, 63.0, 12.0, 52.0, 54.0\n",
    "    ]\n",
    "\n",
    "x = [\n",
    "    186, 333,152, 142, 1646, 584,\n",
    "    179, 294,87, 144, 897, 269,\n",
    "    248, 147,93, 242, 148, 104,\n",
    "    186, 169,125, 171, 149, 81,\n",
    "    126, 167,127, 91, 139, 882,\n",
    "    284, 108,136, 72, 361, 164,\n",
    "    124, 178,88, 118, 202, 140,\n",
    "    137, 283,50, 85, 138, 531,\n",
    "    311, 130,139, 142, 154, 177,\n",
    "    155, 106,154, 266, 696, 104,\n",
    "    216, 289,127, 102, 99, 65,\n",
    "    274, 223,155, 107, 631, 483,\n",
    "]\n",
    "\n",
    "x = [\n",
    "    38, 50, 61.6, 62, 39, 50,\n",
    "    70, 70, 44, 84, 43, 57,\n",
    "    61, 64, 44, 54, 44, 65,\n",
    "    60, 64, 38, 55, 41, 69,\n",
    "    43, 90, 46, 80, 75, 94,\n",
    "    45, 90, 52, 79, 47, 93,\n",
    "    58, 73, 46, 83, 53, 57,\n",
    "    46, 61, 70, 71, 45, 55,\n",
    "    46, 61, 39.5, 56, 45, 46,\n",
    "    48, 58, 47, 43, 47, 33,\n",
    "    48, 93, 44, 86, 47.5, 102,\n",
    "    48, 93, 43, 86, 47.5, 102\n",
    "    ]\n",
    "\n",
    "AB_data = pd.DataFrame({\"x\":x, \"y\":y})\n",
    "ABmedian_y, ABmean_y, ABsucess, ABslen, ABfailed, ABflen = process(AB_data)\n",
    "plt.figure(facecolor=\"gray\")\n",
    "plt.scatter(ABsucess['x'], ABsucess['y'])\n",
    "plt.scatter(ABfailed['x'], ABfailed['y'], color='r')\n",
    "plt.xlim(22,100)"
   ]
  },
  {
   "cell_type": "code",
   "execution_count": null,
   "id": "7d4cd939",
   "metadata": {},
   "outputs": [],
   "source": [
    "ABp = probability(AB_data, ABsucess, ABfailed)\n",
    "plt.figure(facecolor=\"gray\")\n",
    "plt.plot(ABp['x'], ABp['sp'])\n",
    "plt.plot(ABp['x'], ABp['fp'], color = 'r')\n",
    "legend = plt.legend(['above','below'])\n",
    "legend._legend_box.sep = 20\n",
    "plt.title(\"p(x | sucess) & p(x | failed)\")\n",
    "plt.ylabel(\"probability\")\n",
    "plt.xlabel(\"x\")\n",
    "plt.xlim(22,100)"
   ]
  },
  {
   "cell_type": "code",
   "execution_count": null,
   "id": "7975d83e",
   "metadata": {},
   "outputs": [],
   "source": [
    "ABbayes = bayes(AB_data, ABsucess, ABfailed, ABp)\n",
    "# bayes\n",
    "plt.figure(facecolor=\"gray\")\n",
    "plt.plot(ABbayes['x'], ABbayes['spc'])\n",
    "plt.plot(ABbayes['x'], ABbayes['fpc'], color = 'r')\n",
    "legend = plt.legend(['above','below'])\n",
    "legend._legend_box.sep = 20\n",
    "plt.title(\"p(sucess | x) & p(filaed | x)\")\n",
    "plt.ylabel(\"probability\")\n",
    "plt.xlabel(\"x\")\n",
    "plt.xlim(22,100)"
   ]
  },
  {
   "cell_type": "code",
   "execution_count": null,
   "id": "f857d867",
   "metadata": {},
   "outputs": [],
   "source": [
    "plt.figure(facecolor=\"gray\")\n",
    "plt.title(\"p(sucess | x) & p(filaed | x)\")\n",
    "plt.bar(ABbayes['x'], 1, width=5)\n",
    "plt.bar(ABbayes['x'], ABbayes['fpc'], width=5, color='r', edgecolor='w')\n",
    "plt.ylabel(\"probability\")\n",
    "plt.xlabel(\"x\")\n",
    "legend = plt.legend(['above','below'])"
   ]
  },
  {
   "cell_type": "code",
   "execution_count": null,
   "id": "18810735",
   "metadata": {
    "scrolled": true
   },
   "outputs": [],
   "source": [
    "count = {\"x\":[], \"count\":[]}\n",
    "for c in ABbayes['x']:\n",
    "    mask = (AB_data['x'] < c+2.5) & (AB_data['x'] >= c-2.5)\n",
    "    count['count'].append(len(AB_data[mask]))\n",
    "    count['x'].append(c)\n",
    "    \n",
    "count = pd.DataFrame(count)\n",
    "count\n",
    "plt.plot(count['x'], count['count'])"
   ]
  },
  {
   "cell_type": "code",
   "execution_count": null,
   "id": "0b6a1588",
   "metadata": {},
   "outputs": [],
   "source": [
    "AB_interval = c_data(AB_data, 'x', 5)\n",
    "plt.figure(facecolor=\"gray\")\n",
    "plt.plot(AB_interval ['interval_x'],AB_interval['y_mean'])\n",
    "plt.ylabel(\"y\")\n",
    "plt.xlabel(\"x\")"
   ]
  },
  {
   "cell_type": "markdown",
   "id": "a6b9e27e",
   "metadata": {},
   "source": [
    "# t 統計差異"
   ]
  },
  {
   "cell_type": "code",
   "execution_count": null,
   "id": "98507101",
   "metadata": {},
   "outputs": [],
   "source": [
    "import scipy.stats\n",
    "\n",
    "def t_value(df, column, label, bound = 38):\n",
    "    a = np.mean(df[df[column] <= bound][label])\n",
    "    b = np.mean(df[df[column] > bound][label])\n",
    "\n",
    "    astd = np.std(df[df[column] <= bound][label])\n",
    "    bstd = np.std(df[df[column] > bound][label])\n",
    "\n",
    "    na = len(df[df[column] <= bound])\n",
    "    nb = len(df[df[column] > bound])\n",
    "    t = (a-b)/np.sqrt((astd**2/na) + (bstd**2/nb))\n",
    "    p = scipy.stats.t.sf(abs(t), df=na+nb-2)*2\n",
    "    return t,p"
   ]
  },
  {
   "cell_type": "code",
   "execution_count": null,
   "id": "6a00e366",
   "metadata": {},
   "outputs": [],
   "source": [
    "def binary(data, median):\n",
    "    data_binary={\"x\":[],\"y\":[]}\n",
    "    for index, item in data.iterrows():\n",
    "        data_binary['x'].append(item['x'])\n",
    "        data_binary['y'].append(1) if item['y'] > median else data_binary['y'].append(0)\n",
    "    return pd.DataFrame(data_binary)\n",
    "AB_binary = binary(AB_data, ABmedian_y)\n",
    "e_binary = binary(e_data, emedian_y)"
   ]
  },
  {
   "cell_type": "code",
   "execution_count": null,
   "id": "6bc489d4",
   "metadata": {},
   "outputs": [],
   "source": [
    "t_list, p_list = [],[]\n",
    "for bound in range(35,60):\n",
    "    t,p = t_value(AB_binary, 'x', 'y', bound)\n",
    "    t_list.append(t)\n",
    "    p_list.append(p)\n",
    "    if p <= 0.05 and (t > 1 or t < -1) and t != float(\"inf\"):\n",
    "        print(f\"{bound}:\\n\",\"t 分數:%.5f\"% t,\"\\n p value:%.6f\"% p)\n",
    "\n",
    "plt.figure(facecolor='gray')\n",
    "plt.plot(range(35,60,1),p_list,c=\"r\",label=\"p_value\")\n",
    "plt.plot(range(35,60,1),t_list,label=\"t_score\")\n",
    "plt.legend()\n",
    "plt.title(\"significance\")\n",
    "plt.show()"
   ]
  },
  {
   "cell_type": "code",
   "execution_count": null,
   "id": "0ffbff89",
   "metadata": {},
   "outputs": [],
   "source": [
    "t_list, p_list = [],[]\n",
    "for bound in range(35,60):\n",
    "    t,p = t_value(e_binary, 'x', 'y', bound)\n",
    "    t_list.append(t)\n",
    "    p_list.append(p)\n",
    "    if p <= 0.05 and (t > 1 or t < -1) and t != float(\"inf\"):\n",
    "        print(f\"{bound}:\\n\",\"t 分數:%.5f\"% t,\"\\n p value:%.6f\"% p)\n",
    "\n",
    "plt.figure(facecolor='gray')\n",
    "plt.plot(range(35,60,1),p_list,c=\"r\",label=\"p_value\")\n",
    "plt.plot(range(35,60,1),t_list,label=\"t_score\")\n",
    "plt.legend()\n",
    "plt.title(\"significance\")\n",
    "plt.show()"
   ]
  }
 ],
 "metadata": {
  "kernelspec": {
   "display_name": "Python 3 (ipykernel)",
   "language": "python",
   "name": "python3"
  },
  "language_info": {
   "codemirror_mode": {
    "name": "ipython",
    "version": 3
   },
   "file_extension": ".py",
   "mimetype": "text/x-python",
   "name": "python",
   "nbconvert_exporter": "python",
   "pygments_lexer": "ipython3",
   "version": "3.7.9"
  },
  "vscode": {
   "interpreter": {
    "hash": "1b6f505cb9e4a0105833e71df224b61349e0c214af5a02524b56a975591352f4"
   }
  }
 },
 "nbformat": 4,
 "nbformat_minor": 5
}
