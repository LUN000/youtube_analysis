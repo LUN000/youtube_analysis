{
 "cells": [
  {
   "cell_type": "code",
   "execution_count": 1,
   "id": "1470effc",
   "metadata": {},
   "outputs": [],
   "source": [
    "import cv2\n",
    "import os\n",
    "import pandas as pd\n",
    "import pickle\n",
    "import requests\n",
    "from tqdm import tqdm\n",
    "import numpy as np\n",
    "import matplotlib.pyplot as plt\n",
    "\n",
    "from sklearn.decomposition import PCA\n",
    "from sklearn.decomposition import KernelPCA\n",
    "from sklearn.manifold import TSNE \n",
    "from sklearn.preprocessing import StandardScaler\n",
    "\n",
    "from sklearn.linear_model import LogisticRegression\n",
    "from sklearn.cluster import KMeans\n",
    "from sklearn import svm\n",
    "from sklearn.tree import DecisionTreeRegressor\n",
    "from sklearn.ensemble import AdaBoostRegressor\n",
    "from xgboost import XGBRegressor\n",
    "from xgboost import XGBClassifier\n",
    "from xgboost import plot_importance\n",
    "\n",
    "from sklearn.metrics import mean_squared_error\n",
    "from sklearn.model_selection import RepeatedKFold\n",
    "from sklearn.model_selection import cross_val_score\n",
    "from sklearn.model_selection import cross_val_predict"
   ]
  },
  {
   "cell_type": "code",
   "execution_count": 2,
   "id": "f6775320",
   "metadata": {},
   "outputs": [],
   "source": [
    "# 到資料區間路徑\n",
    "os.chdir(\"taitra_all\")"
   ]
  },
  {
   "cell_type": "markdown",
   "id": "06d6ed73",
   "metadata": {},
   "source": [
    "<h1 style=\"text-align:center\"><b> Data processing </b></h1>\n",
    "<h2 style=\"text-align:center\"><b> If file already exist, pass this block </b></h2>\n",
    "\n",
    "**data x**\n",
    "- thumbnail contrast\n",
    "\n",
    "**data y**\n",
    "- views\n",
    "- watchtimes\n",
    "- impressions\n",
    "\n",
    "**feature processing**\n",
    "- clean：Nan to 0, Drop duplicates, Feature to array\n",
    "- PCA\n",
    "- T-SNE\n",
    "- binary"
   ]
  },
  {
   "cell_type": "code",
   "execution_count": null,
   "id": "c52fc467",
   "metadata": {
    "scrolled": true
   },
   "outputs": [],
   "source": [
    "df = pd.read_csv('表格資料_510.csv',encoding='utf-8-sig')\n",
    "df = df.fillna(0)\n",
    "df = df.drop(df.index[0])\n",
    "\n",
    "columns = [\n",
    "    \"影片標題\",\n",
    "    \"straight\",\n",
    "    \"horizontal\"\n",
    "    ]\n",
    "\n",
    "df.drop_duplicates(subset = columns, keep = 'first', inplace = True)\n",
    "df.to_csv(\"表格資料_510_edit.csv\", encoding = 'utf-8-sig',index = None)"
   ]
  },
  {
   "cell_type": "markdown",
   "id": "19d00c11",
   "metadata": {},
   "source": [
    "<h1 style=\"text-align:center\"><b>Download thumbnail & cal</b></h1>\n",
    "\n",
    "計算\n",
    "- 明暗對比度\n",
    "- 色彩豐富度\n",
    "- 前三大面積顏色\n",
    "- WSGI contrast"
   ]
  },
  {
   "cell_type": "code",
   "execution_count": null,
   "id": "e4d9a41d",
   "metadata": {
    "scrolled": true
   },
   "outputs": [],
   "source": [
    "def Download_thumbnail(file):\n",
    "    \"\"\"\n",
    "    download youtube thumbnail by video id\n",
    "    \"\"\"\n",
    "    df = pd.read_csv(file)\n",
    "    ids = df[\"id\"]\n",
    "\n",
    "    for id in tqdm(ids):\n",
    "        url = f\"https://img.youtube.com/vi/{id}/maxresdefault.jpg\"\n",
    "        img = requests.get(url)\n",
    "            \n",
    "        with open(f\"thumbnails/{id}.jpg\",\"wb\") as file:\n",
    "            file.write(img.content)\n",
    "        file.close()\n",
    "    return\n",
    "\n",
    "#     Download_thumbnail(\"表格資料_edit.csv\")"
   ]
  },
  {
   "cell_type": "markdown",
   "id": "aebfa20f",
   "metadata": {},
   "source": [
    "## 灰階對比"
   ]
  },
  {
   "cell_type": "code",
   "execution_count": null,
   "id": "44db53f5",
   "metadata": {},
   "outputs": [],
   "source": [
    "def Thumbnail_contrast(file):\n",
    "    \"\"\"\n",
    "    計算所有 thmbnails 的明暗對比度\n",
    "    \"\"\"\n",
    "    df = pd.read_csv(file)\n",
    "    ids = df[\"id\"]\n",
    "    path = \"thumbnails/\"\n",
    "\n",
    "    contrasts = []\n",
    "    for id in tqdm(ids):\n",
    "        img = cv2.imread(f\"{path}{id}.jpg\")\n",
    "        img_grey = cv2.cvtColor(img, cv2.COLOR_BGR2GRAY)\n",
    "        img_grey = img_grey[:,435:845]\n",
    "        contrast = img_grey.std()\n",
    "        contrasts.append(contrast)\n",
    "        \n",
    "    contrasts = pd.Series(contrasts)\n",
    "    df[\"contrast\"] = contrasts\n",
    "    return df\n",
    "\n",
    "df = Thumbnail_contrast(\"表格資料_edit.csv\")\n",
    "df.to_csv(\"表格資料_edit.csv\",encoding = 'utf-8-sig',index = None)"
   ]
  },
  {
   "cell_type": "code",
   "execution_count": null,
   "id": "b5fcafc2",
   "metadata": {},
   "outputs": [],
   "source": [
    "# 移除無 thumbnails 資料\n",
    "df = pd.read_csv(\"表格資料_edit.csv\")\n",
    "df = df.dropna(subset=['contrast'])\n",
    "df.reset_index(drop= True, inplace=True)\n",
    "df.to_csv(\"表格資料_edit_thumbnails.csv\",encoding = 'utf-8-sig',index = None)"
   ]
  },
  {
   "cell_type": "markdown",
   "id": "09371680",
   "metadata": {},
   "source": [
    "## 色彩豐富度計算\n",
    ">\"Measuring Colourfulness in Natural Images\" by Hasler and Süsstrunk"
   ]
  },
  {
   "cell_type": "code",
   "execution_count": null,
   "id": "f19eb0f6",
   "metadata": {},
   "outputs": [],
   "source": [
    "def image_colorfulness(image):\n",
    "    image = image[:,435:845]\n",
    "    (B, G, R) = cv2.split(image.astype(\"float\")) \n",
    "    \n",
    "    #rg = R - G\n",
    "    rg = np.absolute(R - G) \n",
    "\n",
    "    #yb = 0.5 * (R + G) - B\n",
    "    yb = np.absolute(0.5 * (R + G) - B) \n",
    "\n",
    "    (rbMean, rbStd) = (np.mean(rg), np.std(rg)) \n",
    "    (ybMean, ybStd) = (np.mean(yb), np.std(yb)) \n",
    "\n",
    "    stdRoot = np.sqrt((rbStd ** 2) + (ybStd ** 2))\n",
    "    meanRoot = np.sqrt((rbMean ** 2) + (ybMean ** 2)) \n",
    "\n",
    "    return stdRoot + (0.3 * meanRoot)\n",
    "\n",
    "df = pd.read_csv(\"表格資料_edit_thumbnails.csv\")\n",
    "colorfulness = []\n",
    "for id in tqdm(df[\"id\"]):\n",
    "    img = cv2.imread(f\"thumbnails/{id}.jpg\")\n",
    "    colorfulness.append(image_colorfulness(img))\n",
    "\n",
    "df[\"colorfulness\"] = colorfulness\n",
    "df.to_csv(\"表格資料_edit_thumbnails.csv\", index=False)"
   ]
  },
  {
   "cell_type": "markdown",
   "id": "57751d45",
   "metadata": {},
   "source": [
    "## cv 取色"
   ]
  },
  {
   "cell_type": "code",
   "execution_count": null,
   "id": "d1572e2b",
   "metadata": {},
   "outputs": [],
   "source": [
    "def kMeans_colors(file):\n",
    "    \"\"\"\n",
    "    計算所有 thumbnail 的前五大面積顏色(HSV)以及面積比例\n",
    "    \"\"\"\n",
    "    df = pd.read_csv(file)\n",
    "    ids = df[\"id\"]\n",
    "    path = \"thumbnails/\"\n",
    "    colors_all, proportion_all = [], []\n",
    "    for id in tqdm(ids):\n",
    "        image = cv2.imread(f\"{path}{id}.jpg\")\n",
    "        image = image[:,435:845]\n",
    "        image = cv2.cvtColor(image, cv2.COLOR_BGR2RGB)\n",
    "        image = image.reshape((image.shape[0] * image.shape[1], 3))\n",
    "        model = KMeans(3)\n",
    "        model.fit(image)\n",
    "        colors = model.cluster_centers_\n",
    "\n",
    "        proportion = []\n",
    "        for label in np.unique(model.labels_):\n",
    "            count = 0\n",
    "            for px_label in model.labels_:\n",
    "                if label == px_label:\n",
    "                    count += 1\n",
    "            proportion.append(count/len(image))\n",
    "        colors_all.append(colors.tolist())\n",
    "        proportion_all.append(proportion)\n",
    "        \n",
    "    return colors_all, proportion_all\n",
    "        \n",
    "if __name__ == \"__main__\":\n",
    "    colors, proportion = kMeans_colors(\"表格資料_edit_thumbnails.csv\")\n",
    "    df = pd.read_csv(\"表格資料_edit_thumbnails.csv\")\n",
    "    df[\"colors\"], df[\"proportion\"] = colors, proportion\n",
    "    df.to_csv(\"表格資料_edit_thumbnails.csv\",index=False)"
   ]
  },
  {
   "cell_type": "markdown",
   "id": "7c67f949",
   "metadata": {},
   "source": [
    "## 顏色比例視覺化"
   ]
  },
  {
   "cell_type": "code",
   "execution_count": null,
   "id": "e82de119",
   "metadata": {},
   "outputs": [],
   "source": [
    "def plot_colors(proportion, colors):\n",
    "    bar = np.zeros((50, 300, 3), dtype = \"uint8\")\n",
    "    startX = 0\n",
    "\n",
    "    for (percent, color) in zip(proportion, colors):\n",
    "        endX = startX + (percent * 300)\n",
    "        cv2.rectangle(bar, (int(startX), 0), (int(endX), 50),\n",
    "            color.astype(\"uint8\").tolist(), -1)\n",
    "        startX = endX\n",
    "    return bar\n",
    "\n",
    "def csvcolors_to_list(file):\n",
    "    df = pd.read_csv(file)\n",
    "    rgb_all = []\n",
    "    for i in range(len(df)):\n",
    "        rgb_list = []\n",
    "        for rgb in eval(df.iloc[i][\"colors\"]):\n",
    "            rgb_array = np.array((rgb[0],rgb[1],rgb[2]))\n",
    "            rgb_list.append(rgb_array)\n",
    "        rgb_all.append(rgb_list)\n",
    "    return rgb_all\n",
    "\n",
    "colors = csvcolors_to_list(\"表格資料_edit_thumbnails.csv\")\n",
    "df = pd.read_csv(\"表格資料_edit_thumbnails.csv\")\n",
    "for i  in range(len(colors)): \n",
    "    bar = plot_colors(eval(df.iloc[i][\"proportion\"]), colors[i])\n",
    "    plt.figure()\n",
    "    plt.axis(\"off\")\n",
    "    image = f\"thumbnails/{df.iloc[i]['id']}.jpg\"\n",
    "    img = cv2.imread(image)[:,:,::-1]\n",
    "    plt.imshow(img)\n",
    "    plt.show()\n",
    "    plt.imshow(bar)\n",
    "    plt.show()"
   ]
  },
  {
   "cell_type": "markdown",
   "id": "44a2c36d",
   "metadata": {},
   "source": [
    "## 色相對比計算"
   ]
  },
  {
   "cell_type": "code",
   "execution_count": null,
   "id": "2af4f856",
   "metadata": {},
   "outputs": [],
   "source": [
    "import colorsys\n",
    "\n",
    "def csvrgb_to_hsv(file):\n",
    "    df = pd.read_csv(file)\n",
    "    hsv_all = []\n",
    "    for i in range(len(df)):\n",
    "        hsv_list = []\n",
    "        for rgb in eval(df.iloc[i][\"colors\"]):\n",
    "            rgb_array = np.array((rgb[0]/255,rgb[1]/255,rgb[2]/255))\n",
    "            hsv_array = colorsys.rgb_to_hsv(rgb_array[0], rgb_array[1], rgb_array[2])\n",
    "            hsv_array = (hsv_array[0]*360, hsv_array[1]*100, hsv_array[2]*100)\n",
    "            hsv_list.append(hsv_array)\n",
    "        hsv_all.append(hsv_list)\n",
    "    return hsv_all\n",
    "\n",
    "df = pd.read_csv(\"表格資料_edit_thumbnails.csv\")\n",
    "hsv = csvrgb_to_hsv(\"表格資料_edit_thumbnails.csv\")\n",
    "df['hsv_colors'] = hsv\n",
    "df.to_csv(\"表格資料_edit_thumbnails.csv\",index=False)"
   ]
  },
  {
   "cell_type": "code",
   "execution_count": null,
   "id": "57d0e8b6",
   "metadata": {},
   "outputs": [],
   "source": [
    "def hue_contrast(hsv1, hsv2):\n",
    "    angle1 = np.absolute(hsv1.h - hsv2.h)\n",
    "    angle2 = 360 - angle1\n",
    "    hue_diff = min(angle1,angle2)\n",
    "    return hue_diff\n",
    "\n",
    "df = pd.read_csv(\"表格資料_edit_thumbnails.csv\")\n",
    "\n",
    "df['hsv_diff'] = hsv_diff"
   ]
  },
  {
   "cell_type": "markdown",
   "id": "3a8b8ee3",
   "metadata": {},
   "source": [
    "## WSGI 對比計算"
   ]
  },
  {
   "cell_type": "code",
   "execution_count": null,
   "id": "4db2ee75",
   "metadata": {},
   "outputs": [],
   "source": [
    "from typing import NamedTuple\n",
    "\n",
    "def rgb_to_l(rgb):\n",
    "    \"\"\"\n",
    "    relative brightness, normalized to 0 for darkest black and 1 for lightest white\n",
    "    \"\"\"\n",
    "    lchannel = []\n",
    "    for channel in rgb:\n",
    "        schannel = (channel/255)\n",
    "        lchannel.append(\n",
    "            ((schannel+0.055)/1.055)**2.4 if schannel > 0.03928 else schannel/12.92\n",
    "        )\n",
    "    L = 0.2126 * lchannel[0] + 0.7152 * lchannel[1] + 0.0722 * lchannel[2]\n",
    "    return L\n",
    "\n",
    "def contrast_ratio(l1,l2):\n",
    "    \"\"\"\n",
    "    Contrast ratios range from 1 to 21, L1 lighter, L2 darker\n",
    "    \"\"\"\n",
    "    contrast = (l1 + 0.05) / (l2 + 0.05)\n",
    "    return contrast\n",
    "\n",
    "\n",
    "if __name__ == \"__main__\":\n",
    "    rgb_list = csvcolors_to_list(\"表格資料_edit_thumbnails.csv\")\n",
    "    contrast_all = []\n",
    "    for palette in rgb_list:\n",
    "        l_list=[]\n",
    "        for color in palette:\n",
    "            l = rgb_to_l(color)\n",
    "            l_list.append(l)\n",
    "        contrast = contrast_ratio(max(l_list), min(l_list))\n",
    "        contrast_all.append(contrast)\n",
    "\n",
    "    df = pd.read_csv(\"表格資料_edit_thumbnails.csv\")\n",
    "    df['wcag_contrast'] = contrast_all\n",
    "    df.to_csv(\"表格資料_edit_thumbnails.csv\", index=False)"
   ]
  },
  {
   "cell_type": "markdown",
   "id": "12a473a4",
   "metadata": {},
   "source": [
    "## 資料分區"
   ]
  },
  {
   "cell_type": "code",
   "execution_count": null,
   "id": "da34f751",
   "metadata": {},
   "outputs": [],
   "source": [
    "df = pd.read_csv(\"表格資料_edit_thumbnails.csv\")\n",
    "\n",
    "\n",
    "data = {\"interval_contrast\":[10,20,30,40,50,60,70,80,90,100]}\n",
    "ctr, views, watchtimes, impressions = [],[],[],[]\n",
    "\n",
    "for i in range(0,100,10):\n",
    "    mask = df[\"contrast\"] <= i\n",
    "    inv_ctr = np.mean(df[mask][\"CTR\"])\n",
    "    inv_view = np.mean(df[mask][\"views\"])\n",
    "    inv_watch = np.mean(df[mask][\"watchtimes(hr)\"])\n",
    "    inv_impression = np.mean(df[mask][\"impressions\"])\n",
    "    ctr.append(inv_ctr)\n",
    "    views.append(inv_view)\n",
    "    watchtimes.append(inv_watch)\n",
    "    impressions.append(inv_impression)\n",
    "data.update([(\"ctr\",ctr),(\"views\",views), (\"watchtimes\",watchtimes), (\"impressions\",impressions)])\n",
    "\n",
    "data = pd.DataFrame(data)\n",
    "data.to_csv(\"interval/interval_contrast.csv\", index=False)"
   ]
  },
  {
   "cell_type": "markdown",
   "id": "8c930f6a",
   "metadata": {},
   "source": [
    "## Feature to array"
   ]
  },
  {
   "cell_type": "code",
   "execution_count": 3,
   "id": "05686cb9",
   "metadata": {},
   "outputs": [
    {
     "name": "stdout",
     "output_type": "stream",
     "text": [
      "(344, 1) (344, 1) (344, 1) (344, 7) (344,) (344,) (344,)\n"
     ]
    }
   ],
   "source": [
    "df = pd.read_csv('表格資料_edit_thumbnails.csv',encoding='utf-8-sig')\n",
    "# y\n",
    "impressions = df.loc[:,\"impressions\"].values\n",
    "views = df.loc[:,\"views\"].values\n",
    "watchtimes = df.loc[:,\"watchtimes(hr)\"].values*3600\n",
    "#x\n",
    "contrast = df.loc[:,\"contrast\"].values.reshape((len(df),1))\n",
    "wcag_contrast = df.loc[:,\"wcag_contrast\"].values.reshape((len(df),1))\n",
    "colorful = df.loc[:,\"colorfulness\"].values.reshape((len(df),1))\n",
    "bertscore = df.loc[:,\"f1-score\"].values.reshape((len(df),1))\n",
    "product_encode = df.loc[:,\"product_encode\"].values.reshape((len(df),1))\n",
    "form_encode = df.loc[:,\"form_encode\"].values.reshape((len(df),1))\n",
    "thumbnail_text_len = df.loc[:,\"thumbnail_text_len\"].values.reshape((len(df),1))\n",
    "\n",
    "features = df.loc[:,\"contrast\":].drop(columns=[\"colors\",\"proportion\",\"hsv_colors\",\"form\",\"p-score\",\"r-score\",\"product\",\"form\"])\n",
    "\n",
    "print(contrast.shape,\n",
    "      wcag_contrast.shape,\n",
    "      colorful.shape,\n",
    "      features.shape,\n",
    "      impressions.shape,\n",
    "      watchtimes.shape,\n",
    "      views.shape)"
   ]
  },
  {
   "cell_type": "markdown",
   "id": "7755426a",
   "metadata": {},
   "source": [
    "<h1 style=\"text-align:center\"><b>ML</b></h1>"
   ]
  },
  {
   "cell_type": "markdown",
   "id": "b47335a6",
   "metadata": {},
   "source": [
    "## PCA"
   ]
  },
  {
   "cell_type": "code",
   "execution_count": null,
   "id": "e4915166",
   "metadata": {},
   "outputs": [],
   "source": [
    "def pca(features, n):\n",
    "    pca = PCA(n_components = n, random_state=42)\n",
    "    dw_features = pca.fit_transform(features)\n",
    "    return dw_features\n",
    "\n",
    "X_pca = pca(features, 2)\n",
    "df = pd.DataFrame({\"Feature_1\":X_pca[:,0],\"Feature_2\":X_pca[:,1], \"label\":impressions})\n",
    "df.plot(x=\"Feature_1\", y=\"Feature_2\", kind='scatter', c='label', colormap='viridis')"
   ]
  },
  {
   "cell_type": "code",
   "execution_count": null,
   "id": "60d844dc",
   "metadata": {},
   "outputs": [],
   "source": [
    "dw_features = KernelPCA(n_components=3, kernel='rbf').fit_transform(features)\n",
    "df = pd.DataFrame({\n",
    "            \"Feature_1\":dw_features[:,0],\n",
    "            \"Feature_2\":dw_features[:,1], \n",
    "            \"Feature_3\":dw_features[:,2],\n",
    "            \"label\":impressions\n",
    "            })\n",
    "fig = plt.figure(figsize=(10,6))\n",
    "ax = fig.gca(projection = '3d')\n",
    "x = df[\"Feature_1\"]\n",
    "y = df[\"Feature_2\"]\n",
    "z = df[\"Feature_3\"]\n",
    "ax.scatter(x, y, z, c = df[\"label\"])\n",
    "ax.legend()\n",
    "plt.show()"
   ]
  },
  {
   "cell_type": "markdown",
   "id": "dfe78cce",
   "metadata": {},
   "source": [
    "## T-SNE"
   ]
  },
  {
   "cell_type": "code",
   "execution_count": null,
   "id": "607d2e60",
   "metadata": {},
   "outputs": [],
   "source": [
    "def tsne_2d(features, perplexity=50,plot=False):\n",
    "    X_tsne = TSNE(n_components=2, perplexity=perplexity,random_state=42).fit_transform(features)\n",
    "    if plot == True:\n",
    "        df = pd.DataFrame({\"Feature_1\":X_tsne[:,0],\"Feature_2\":X_tsne[:,1], \"label\":impressions})\n",
    "        df.plot(x=\"Feature_1\", y=\"Feature_2\", kind='scatter', c='label', colormap='viridis')\n",
    "    return X_tsne\n",
    "\n",
    "def tsne_3d(features, perplexity=50,plot=False):\n",
    "    X_tsne = TSNE(n_components=3, perplexity=perplexity,random_state=42).fit_transform(features)\n",
    "    if plot == True:\n",
    "        df = pd.DataFrame({\n",
    "            \"Feature_1\":X_tsne[:,0],\n",
    "            \"Feature_2\":X_tsne[:,1], \n",
    "            \"Feature_3\":X_tsne[:,2],\n",
    "            \"label\":impressions\n",
    "            })\n",
    "        fig = plt.figure(figsize=(10,6))\n",
    "        ax = fig.gca(projection = '3d')\n",
    "        x = df[\"Feature_1\"]\n",
    "        y = df[\"Feature_2\"]\n",
    "        z = df[\"Feature_3\"]\n",
    "        ax.scatter(x, y, z, c = df[\"label\"])\n",
    "        ax.legend()\n",
    "        plt.show()\n",
    "    return X_tsne\n",
    "tsne_2d(features, perplexity=50,plot = True)\n",
    "tsne_3d(features, perplexity=50,plot = True)"
   ]
  },
  {
   "cell_type": "markdown",
   "id": "31dc4782",
   "metadata": {},
   "source": [
    "## binary"
   ]
  },
  {
   "cell_type": "code",
   "execution_count": null,
   "id": "50794b8d",
   "metadata": {},
   "outputs": [],
   "source": [
    "def label_binary(label):\n",
    "    label_avg = sum(label)/len(label)\n",
    "    label_bi = label.copy()\n",
    "    label_bi[label_bi<label_avg] = 0\n",
    "    label_bi[label_bi>=label_avg] = 1\n",
    "    return label_bi\n",
    "\n",
    "impressions_bi = label_binary(impressions)\n",
    "views_bi = label_binary(views)\n",
    "watchtimes_bi = label_binary(watchtimes)"
   ]
  },
  {
   "cell_type": "markdown",
   "id": "12bbaa1f",
   "metadata": {},
   "source": [
    "## plot func"
   ]
  },
  {
   "cell_type": "code",
   "execution_count": null,
   "id": "41182d97",
   "metadata": {},
   "outputs": [],
   "source": [
    "def plt3d(dw_feats,color):\n",
    "    fig = plt.figure(figsize=(10,6))\n",
    "    ax = fig.gca(projection = '3d')\n",
    "    x = dw_feats[:,0]\n",
    "    y = dw_feats[:,1]\n",
    "    z = dw_feats[:,2]\n",
    "    ax.scatter(x, y, z, c = color)\n",
    "    ax.legend()\n",
    "    plt.show()\n",
    "\n",
    "def plt2d(dw_feats,color):\n",
    "    plt.scatter(dw_feats[:, 0], dw_feats[:, 1], c = color)\n",
    "    plt.show()"
   ]
  },
  {
   "cell_type": "markdown",
   "id": "5f388d98",
   "metadata": {},
   "source": [
    "## **Model**\n",
    "- K-Means\n",
    "- Logistic Regression\n",
    "- Decission tree\n",
    "- SVM\n",
    "- XGBoost"
   ]
  },
  {
   "cell_type": "markdown",
   "id": "4fcb2066",
   "metadata": {},
   "source": [
    "## K-Means\n",
    "- <font color=white> 將無 target 的純特徵向量做 unsupervised learning, 觀察不同 k 值 clustering 結果 </font>"
   ]
  },
  {
   "cell_type": "code",
   "execution_count": null,
   "id": "cedc1a38",
   "metadata": {
    "scrolled": true
   },
   "outputs": [],
   "source": [
    "def cluster_label(n_cluster, label):\n",
    "    for n in range(n_clusters):\n",
    "        indexs = np.where(y_pred==n)\n",
    "        for index in indexs:\n",
    "            print(f\"cluster {n} average: {np.mean(label[index])}\")\n",
    "    return\n",
    "    \n",
    "def draw_cluster_label(y_pred, label):\n",
    "    plt.scatter(y_pred, label, c = y_pred)\n",
    "    plt.rcParams['font.sans-serif'] = ['Microsoft JhengHei'] \n",
    "    plt.rcParams['axes.unicode_minus'] = False\n",
    "    plt.xlabel(\"分群編號\")\n",
    "    plt.ylabel(\"label\")\n",
    "    plt.show()\n",
    "    return\n",
    "    \n",
    "for n_clusters in range(2,8):\n",
    "#     dw_feats = tsne_2d(features)\n",
    "    dw_feats = features\n",
    "    kmeans = KMeans(n_clusters = n_clusters,  random_state=42)\n",
    "    y_pred = kmeans.fit_predict(dw_feats)\n",
    "    unique, counts = np.unique(y_pred[:], return_counts=True)\n",
    "    print(dict(zip(unique, counts)))\n",
    "\n",
    "    cluster_label(n_clusters, impressions)   \n",
    "    draw_cluster_label(y_pred, impressions)\n",
    "    # plt3d(dw_feats,y_pred)\n",
    "    # plt2d(dw_feats,y_pred)"
   ]
  },
  {
   "cell_type": "code",
   "execution_count": null,
   "id": "a92424da",
   "metadata": {},
   "outputs": [],
   "source": [
    "# import sys\n",
    "# np.set_printoptions(threshold=sys.maxsize)\n",
    "indexs = np.where(y_pred==2)\n",
    "\n",
    "for index in indexs:\n",
    "    for i in index:\n",
    "        print(dw_feats.iloc[i], \"impression:\", impressions[i])\n",
    "#     print((sum(watchtimes[index])-watchtimes[index[36]])/55)"
   ]
  },
  {
   "cell_type": "markdown",
   "id": "5857baec",
   "metadata": {},
   "source": [
    "## Logistic Regression"
   ]
  },
  {
   "cell_type": "code",
   "execution_count": null,
   "id": "a39e8f21",
   "metadata": {},
   "outputs": [],
   "source": [
    "# X = pca(features, n = 3)\n",
    "# X = tsne_3d(features)\n",
    "X = features\n",
    "scaler = StandardScaler()\n",
    "scaler.fit(X)\n",
    "X_std = scaler.transform(X)\n",
    "\n",
    "model = LogisticRegression()\n",
    "# define model evaluation method\n",
    "cv = RepeatedKFold(n_splits=5, n_repeats=3, random_state=1)\n",
    "# evaluate model\n",
    "scores = cross_val_score(model, X, views_bi,  scoring='accuracy', cv=cv, n_jobs=-1)\n",
    "print('Accuracy: %.3f (%.3f)' % (np.mean(scores), np.std(scores)))\n",
    "for train_index, test_index in cv.split(X_std):\n",
    "    X_train, X_test = X[train_index], X[test_index]\n",
    "    y_train, y_test = views_bi[train_index], views_bi[test_index]\n",
    "    model.fit(X_train, y_train)\n",
    "    pridicted_tr = model.predict(X_train)\n",
    "    pridicted_te = model.predict(X_test)\n",
    "    print('訓練集: ',model.score(X_train,y_train))\n",
    "    print('測試集: ',model.score(X_test,y_test))"
   ]
  },
  {
   "cell_type": "markdown",
   "id": "58bc8e9c",
   "metadata": {},
   "source": [
    "## svm\n",
    "<font color=white>將特徵向量與 target 做 svm regression</font>"
   ]
  },
  {
   "cell_type": "code",
   "execution_count": null,
   "id": "9cfee505",
   "metadata": {},
   "outputs": [],
   "source": [
    "# dw_feats = pca(features, n = 2)\n",
    "# dw_feats = tsne_2d(features,50)\n",
    "# dw_features = KernelPCA(n_components=2, kernel='rbf').fit_transform(features)\n",
    "dw_feats = features\n",
    "label = impressions\n",
    "\n",
    "models = (svm.LinearSVR(C=15),\n",
    "          svm.SVR(kernel='linear', C=15),\n",
    "          svm.SVR(kernel='rbf', gamma=0.7, C=15),\n",
    "          svm.SVR(kernel='poly', C=15))\n",
    "\n",
    "models = (model.fit(dw_feats, impressions) for model in models)\n",
    "# define model evaluation method\n",
    "cv = RepeatedKFold(n_splits=5, n_repeats=3, random_state=1)\n",
    "# evaluate model\n",
    "for model in models:\n",
    "    print(model)\n",
    "    scores = cross_val_score(model, dw_feats, label, cv=cv)\n",
    "    print(\"%0.2f accuracy with a standard deviation of %0.2f\" % (scores.mean(), scores.std()))\n",
    "\n",
    "    for train_index, test_index in cv.split(dw_feats):\n",
    "        X_train, X_test = dw_feats.iloc[train_index], dw_feats.iloc[test_index]\n",
    "        y_train, y_test = label[train_index], impressions[test_index]\n",
    "        pred = model.predict(X_test)\n",
    "    plt.scatter(pred,y_test,c='r', s=2)\n",
    "    plt.xlabel('Predicted')\n",
    "    plt.ylabel('Measured')\n",
    "    plt.show()"
   ]
  },
  {
   "cell_type": "code",
   "execution_count": null,
   "id": "7baf0385",
   "metadata": {},
   "outputs": [],
   "source": [
    "# dw_feats = pca(features, n = 3)\n",
    "# dw_feats = tsne_2d(features,50)\n",
    "dw_feats = contrast\n",
    "models = (svm.LinearSVC(C=10),\n",
    "          svm.SVC(kernel='rbf', gamma=0.7, C=10),\n",
    "          svm.SVC(kernel='poly', C=10))\n",
    "\n",
    "models = (model.fit(dw_feats, views_bi) for model in models)\n",
    "# define model evaluation method\n",
    "cv = RepeatedKFold(n_splits=5, n_repeats=3, random_state=1)\n",
    "# evaluate model\n",
    "for model in models:\n",
    "    print(model)\n",
    "    scores = cross_val_score(model, dw_feats, views_bi, cv=cv)\n",
    "    print(\"Accuracy(std)%0.2f(%0.2f)\" % (scores.mean(), scores.std()))\n",
    "    with open(f\"model/{model}.pkl\",\"wb\") as file:\n",
    "        pickle.dump(model,file)\n",
    "\n",
    "#     for train_index, test_index in cv.split(dw_feats):\n",
    "#         X_train, X_test = dw_feats[train_index], dw_feats[test_index]\n",
    "#         y_train, y_test = views_bi[train_index], views_bi[test_index]\n",
    "#         pred = model.predict(X_test)\n",
    "#         plt.scatter(pred,y_test,c='r', s=2)\n",
    "#         plt.xlabel('Predicted')\n",
    "#         plt.ylabel('Measured')\n",
    "#         plt.show()"
   ]
  },
  {
   "cell_type": "markdown",
   "id": "168fff8d",
   "metadata": {},
   "source": [
    "## Decision tree"
   ]
  },
  {
   "cell_type": "code",
   "execution_count": null,
   "id": "d1233823",
   "metadata": {},
   "outputs": [],
   "source": [
    "import os \n",
    "os.environ[\"PATH\"] += os.pathsep + \"C:\\Users\\x0933\\taitraYT\\Lib\\site-packages\\pygments\\lexers\\graphviz.py\""
   ]
  },
  {
   "cell_type": "code",
   "execution_count": null,
   "id": "0083479d",
   "metadata": {},
   "outputs": [],
   "source": [
    "X = pca(features,3)\n",
    "# X = tsne_2d(features,50)\n",
    "# X = KernelPCA(n_components=3, kernel='rbf').fit_transform(features)\n",
    "# X = contrast\n",
    "dtr = DecisionTreeRegressor(max_features=1,random_state=42)\n",
    "\n",
    "# define model evaluation method\n",
    "cv = RepeatedKFold(n_splits=5, n_repeats=3, random_state=1)\n",
    "# evaluate model\n",
    "scores = cross_val_score(dtr, X, watchtimes, cv=cv)\n",
    "print(scores)\n",
    "print(\"%0.2f accuracy with a standard deviation of %0.2f\" % (scores.mean(), scores.std()))\n",
    "\n",
    "for train_index, test_index in cv.split(X):\n",
    "    X_train, X_test = X[train_index], X[test_index]\n",
    "    y_train, y_test = watchtimes[train_index], watchtimes[test_index]\n",
    "    dtr.fit(X_train, y_train)\n",
    "    pridicted_tr = dtr.predict(X_train)\n",
    "    pridicted_te = dtr.predict(X_test)\n",
    "    print('訓練集: ', dtr.score(X_train,y_train))\n",
    "    print('測試集: ', dtr.score(X_test,y_test))\n",
    "    plt.scatter(pridicted_te,y_test,c='r')\n",
    "    plt.xlabel('Predicted')\n",
    "    plt.ylabel('Measured')\n",
    "    plt.show"
   ]
  },
  {
   "cell_type": "code",
   "execution_count": null,
   "id": "a2b55fbf",
   "metadata": {
    "scrolled": true
   },
   "outputs": [],
   "source": [
    "from sklearn.tree import DecisionTreeClassifier\n",
    "dw_feats = pca(features,5)\n",
    "model = DecisionTreeClassifier()\n",
    "\n",
    "# define model evaluation method\n",
    "cv = RepeatedKFold(n_splits=7, n_repeats=3, random_state=1)\n",
    "# evaluate model\n",
    "scores = cross_val_score(model, dw_feats, views_bi, scoring = \"accuracy\", cv=cv)\n",
    "print(scores)\n",
    "print(\"%0.2f accuracy with a standard deviation of %0.2f\" % (scores.mean(), scores.std()))\n",
    "\n",
    "\n",
    "for train_index, test_index in cv.split(dw_feats):\n",
    "    X_train, X_test = dw_feats[train_index], dw_feats[test_index]\n",
    "    y_train, y_test = views_bi[train_index], views_bi[test_index]\n",
    "    model.fit(X_train,y_train)\n",
    "    pred = model.predict(X_test)\n",
    "#     print(pred, y_test)"
   ]
  },
  {
   "cell_type": "code",
   "execution_count": null,
   "id": "a03227de",
   "metadata": {},
   "outputs": [],
   "source": [
    "from sklearn.ensemble import BaggingClassifier\n",
    "dw_feats = pca(features,5)\n",
    "model = BaggingClassifier(n_estimators=500)\n",
    "\n",
    "# define model evaluation method\n",
    "cv = RepeatedKFold(n_splits=5, n_repeats=3, random_state=1)\n",
    "# evaluate model\n",
    "scores = cross_val_score(model, dw_feats, views_bi, scoring = \"accuracy\", cv=cv)\n",
    "print(scores)\n",
    "print(\"%0.2f accuracy with a standard deviation of %0.2f\" % (scores.mean(), scores.std()))\n",
    "\n",
    "\n",
    "for train_index, test_index in cv.split(dw_feats):\n",
    "    X_train, X_test = dw_feats[train_index], dw_feats[test_index]\n",
    "    y_train, y_test = views_bi[train_index], views_bi[test_index]\n",
    "    model.fit(X_train,y_train)\n",
    "    pred = model.predict(X_test)\n",
    "#     print(pred, y_test)"
   ]
  },
  {
   "cell_type": "markdown",
   "id": "445f1b55",
   "metadata": {},
   "source": [
    "## XGBoost\n",
    "- <font color=white>xgbregression</font>\n",
    "    - n_estimators: The number of trees in the ensemble, often increased until no further improvements are seen.\n",
    "    - max_depth: The maximum depth of each tree, often values are between 1 and 10.\n",
    "    - eta: The learning rate used to weight each model, often set to small values such as 0.3, 0.1, 0.01, or smaller.\n",
    "    - subsample: The number of samples (rows) used in each tree, set to a value between 0 and 1, often 1.0 to use all samples.\n",
    "    - colsample_bytree: Number of features (columns) used in each tree, set to a value between 0 and 1, often 1.0 to use all features."
   ]
  },
  {
   "cell_type": "code",
   "execution_count": null,
   "id": "c7e5e177",
   "metadata": {},
   "outputs": [],
   "source": [
    "#data\n",
    "# X = KernelPCA(n_components=5, kernel='rbf').fit_transform(features)\n",
    "# X = tsne_3d(features,50)\n",
    "X = features\n",
    "# scaler = StandardScaler()\n",
    "# X = scaler.fit_transform(dw_feats)\n",
    "# model\n",
    "xgb = XGBClassifier(\n",
    "    booster = \"gbtree\",\n",
    "    max_depth = 50,\n",
    "    eta = 0.1,\n",
    "    subsample = 1,\n",
    "    colsample_bytree = 1,\n",
    "    eval_metric=mean_squared_error\n",
    ")\n",
    "\n",
    "\n",
    "# define model evaluation method\n",
    "cv = RepeatedKFold(n_splits=5, n_repeats=3, random_state=1)\n",
    "# evaluate model\n",
    "scores = cross_val_score(xgb, X, views_bi, cv=cv)\n",
    "print(\"%0.2f accuracy with a standard deviation of %0.2f\" % (scores.mean(), scores.std()))\n",
    "\n",
    "for train_index, test_index in cv.split(X):\n",
    "    X_train, X_test = X[train_index], X[test_index]\n",
    "    y_train, y_test = views_bi[train_index], views_bi[test_index]\n",
    "    xgb.fit(X_train, y_train)\n",
    "    pridicted = xgb.predict(X_test)\n",
    "    print('訓練集: ',xgb.score(X_train,y_train))\n",
    "    print('測試集: ',xgb.score(X_test,y_test))\n",
    "    plt.scatter(pridicted,y_test,c='r')\n",
    "    plt.xlabel('Predicted')\n",
    "    plt.ylabel('Measured')\n",
    "    plt.show()\n",
    "    plot_importance(xgb)\n",
    "    plt.show()"
   ]
  }
 ],
 "metadata": {
  "kernelspec": {
   "display_name": "Python 3 (ipykernel)",
   "language": "python",
   "name": "python3"
  },
  "language_info": {
   "codemirror_mode": {
    "name": "ipython",
    "version": 3
   },
   "file_extension": ".py",
   "mimetype": "text/x-python",
   "name": "python",
   "nbconvert_exporter": "python",
   "pygments_lexer": "ipython3",
   "version": "3.7.9"
  }
 },
 "nbformat": 4,
 "nbformat_minor": 5
}
