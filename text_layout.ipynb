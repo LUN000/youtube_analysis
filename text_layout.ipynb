{
 "cells": [
  {
   "cell_type": "code",
   "execution_count": null,
   "id": "71df98fc",
   "metadata": {},
   "outputs": [],
   "source": [
    "# !pip install Pillow==9.1.1\n",
    "# !pip install pytesseract\n",
    "# !pip install bert_score\n",
    "# !pip install torch\n",
    "# !apt-get install tesseract-ocr"
   ]
  },
  {
   "cell_type": "code",
   "execution_count": 4,
   "id": "646d9b21",
   "metadata": {},
   "outputs": [],
   "source": [
    "# from bert_score import score\n",
    "import cv2\n",
    "import matplotlib.pyplot as plt\n",
    "import numpy as np\n",
    "import torch\n",
    "from tqdm import tqdm\n",
    "import pandas as pd\n",
    "import pickle\n",
    "from PIL import Image\n",
    "# import pytesseract\n",
    "import os\n",
    "import json"
   ]
  },
  {
   "cell_type": "code",
   "execution_count": 5,
   "id": "51926312",
   "metadata": {},
   "outputs": [],
   "source": [
    "# 到資料區間路徑\n",
    "os.chdir(\"taitra_all\")"
   ]
  },
  {
   "cell_type": "markdown",
   "id": "06d6ed73",
   "metadata": {},
   "source": [
    "<h1 style=\"text-align:center;\"> Data processing </h>\n",
    "\n",
    "<h3>\n",
    "    \n",
    ">**data x**\n",
    ">- thumbnail 文字\n",
    ">- 標題 ＆ 敘述\n",
    ">-  bert-score\n",
    "\n",
    ">**data y**\n",
    ">- views\n",
    ">- watchtimes\n",
    ">- impressions\n",
    "\n",
    ">**feature processing**\n",
    ">- clean：Nan to 0, Drop duplicates, Feature to array\n",
    ">- PCA\n",
    ">- T-SNE\n",
    ">- binary\n",
    "</h>"
   ]
  },
  {
   "cell_type": "markdown",
   "id": "19d00c11",
   "metadata": {},
   "source": [
    "## Download thumbnail"
   ]
  },
  {
   "cell_type": "code",
   "execution_count": null,
   "id": "e4d9a41d",
   "metadata": {},
   "outputs": [],
   "source": [
    "# from tqdm import tqdm\n",
    "# import requests\n",
    "# import cv2\n",
    "\n",
    "# file = \n",
    "# df = pd.read_csv(\"file\")\n",
    "# ids = df[\"id\"]\n",
    "\n",
    "# for id in tqdm(ids):\n",
    "#     url = f\"https://img.youtube.com/vi/{id}/maxresdefault.jpg\"\n",
    "#     img = requests.get(url)\n",
    "\n",
    "#     with open(f\"thumbnails/{id}.jpg\",\"wb\") as file:\n",
    "#         file.write(img.content)\n",
    "#     file.close()"
   ]
  },
  {
   "cell_type": "markdown",
   "id": "e928bd4e",
   "metadata": {},
   "source": [
    "## Get thumbnail's text\n",
    "- pytesseract ocr"
   ]
  },
  {
   "cell_type": "code",
   "execution_count": null,
   "id": "0456a64f",
   "metadata": {},
   "outputs": [],
   "source": [
    "file = \n",
    "df = pd.read_csv(\"file\")\n",
    "ids = df[\"id\"]\n",
    "thumbnails_text = {}\n",
    "\n",
    "for id in tqdm(ids.to_list()):\n",
    "    image = Image.open(f'./thumbnails/{id}.jpg')\n",
    "    text = pytesseract.image_to_string(image, lang='eng')\n",
    "    thumbnails_text.update({f\"{id}\":text})\n",
    "# print(thumbnails_text)\n",
    "with open(\"thumbnails_text.json\",'w', encoding=\"utf-8\") as file:\n",
    "    json.dump(thumbnails_text, file)\n",
    "file.close()"
   ]
  },
  {
   "cell_type": "markdown",
   "id": "11a39d63",
   "metadata": {},
   "source": [
    "## Cal thumbnail text relation with title score\n",
    "- Bert score"
   ]
  },
  {
   "cell_type": "code",
   "execution_count": null,
   "id": "0d82fa52",
   "metadata": {},
   "outputs": [],
   "source": [
    "\"\"\"\n",
    "計算 thumbnail text 與 title 的 score 輸出.pt file  \n",
    "\"\"\"\n",
    "with open('thumbnails_text.json','r',encoding='utf-8') as file:\n",
    "    df = json.load(file)\n",
    "file.close()\n",
    "\n",
    "data = pd.read_csv(\"表格資料_510_edit.csv\", index_col=False)\n",
    "titles, thumb_texts = [], []\n",
    "for key in tqdm(df.keys()): \n",
    "    title = data[data[\"影片\"]==key][\"影片標題\"].to_string(index=False)\n",
    "    thumb_text = df[key]\n",
    "    titles.append(title)\n",
    "    thumb_texts.append(thumb_text)\n",
    "\n",
    "P, R, F1 = score(titles, thumb_texts, lang=\"others\", verbose=True)\n",
    "scores = {\"P\":P, \"R\":R, \"F1\":F1}\n",
    "torch.save(scores,\"bert-scores.pt\")"
   ]
  },
  {
   "cell_type": "code",
   "execution_count": null,
   "id": "c9f6e613",
   "metadata": {},
   "outputs": [],
   "source": [
    "scores = torch.load(\"bert-scores.pt\")\n",
    "df = pd.read_csv('表格資料_edit_thumbnails.csv',encoding='utf-8-sig')\n",
    "\n",
    "df['p-score'] = scores['P']\n",
    "df['r-score'] = scores['R']\n",
    "df['f1-score'] = scores['F1']\n",
    "df.to_csv(\"表格資料_edit_thumbnails.csv\",encoding='utf-8-sig',index=False)"
   ]
  },
  {
   "cell_type": "markdown",
   "id": "9eb75e5f",
   "metadata": {},
   "source": [
    "## thumbnail text long"
   ]
  },
  {
   "cell_type": "code",
   "execution_count": 17,
   "id": "583e1df9",
   "metadata": {},
   "outputs": [
    {
     "name": "stdout",
     "output_type": "stream",
     "text": [
      "344\n"
     ]
    },
    {
     "name": "stderr",
     "output_type": "stream",
     "text": [
      "100%|████████████████████████████████████████████████████████████████████████████████████████| 344/344 [00:00<?, ?it/s]"
     ]
    },
    {
     "name": "stdout",
     "output_type": "stream",
     "text": [
      "344\n"
     ]
    },
    {
     "name": "stderr",
     "output_type": "stream",
     "text": [
      "\n"
     ]
    }
   ],
   "source": [
    "with open('thumbnails_text.json','r',encoding='utf-8') as file:\n",
    "    df = json.load(file)\n",
    "file.close()\n",
    "\n",
    "text_len = []\n",
    "for key in tqdm(df.keys()):\n",
    "    chars = len(df[key])\n",
    "    text_len.append(chars)\n",
    "\n",
    "df = pd.read_csv(\"表格資料_edit_thumbnails.csv\")\n",
    "df[\"thumbnail_text_len\"] = text_len\n",
    "df.to_csv(\"表格資料_edit_thumbnails.csv\",index=False)"
   ]
  },
  {
   "cell_type": "markdown",
   "id": "8c930f6a",
   "metadata": {},
   "source": [
    "## Feature to array"
   ]
  },
  {
   "cell_type": "code",
   "execution_count": 13,
   "id": "05686cb9",
   "metadata": {},
   "outputs": [
    {
     "name": "stdout",
     "output_type": "stream",
     "text": [
      "(321,) (321, 1) (321,) (321,) (321, 3)\n"
     ]
    }
   ],
   "source": [
    "df = pd.read_csv('表格資料_edit_thumbnails.csv',encoding='utf-8-sig')\n",
    "df.drop(df[df['p-score']==0].index, axis=0, inplace=True)\n",
    "# target\n",
    "impressions = df.loc[:,\"impressions\"].values\n",
    "views = df.loc[:,\"views\"].values\n",
    "watchtimes = df.loc[:,\"watchtimes(hr)\"].values*3600\n",
    "# 提取 features to nparray\n",
    "bert_score = df.loc[:,\"f1-score\"].values\n",
    "contrast = df.loc[:,\"contrast\"].values\n",
    "contrast = contrast.reshape((len(contrast),1))\n",
    "nlp_scores = df.loc[:,'p-score':'f1-score']\n",
    "\n",
    "print(impressions.shape,\n",
    "      #features.shape,\n",
    "      contrast.shape,\n",
    "      watchtimes.shape,\n",
    "      views.shape,\n",
    "      nlp_scores.shape\n",
    "     )\n",
    "# df.plot(x=nlp_scores['f1-score'])"
   ]
  },
  {
   "cell_type": "code",
   "execution_count": 22,
   "id": "1c62038a",
   "metadata": {},
   "outputs": [
    {
     "name": "stdout",
     "output_type": "stream",
     "text": [
      "標題: SAN CHIA PRECISION INDUSTRY CO., LTD. \n",
      "縮圖: Bevel Gear\n",
      "\n",
      "Featur\n",
      "\n",
      "Easy shifting operation\n",
      "\n",
      "The small footprint, large power is\n",
      "\n",
      "transmitted\n",
      "\n",
      "lubricating easy, less wear\n",
      "\n",
      "The high and low speed can be pa\n",
      "\n",
      "Usage:\n",
      "\n",
      "change speed transmission of power\n",
      "hange the direction of t\n",
      "\n",
      "power\n",
      "\n",
      " \n",
      "\f",
      "\n",
      "---------------------------------------------\n",
      "標題: TK-EBLR-MULTI LAYER INFLATION MACHINE | DIING KUEN PLASTIC MACHINERY CO., LTD. | Taiwantrade \n",
      "縮圖: TK-EBLR-MULTI LAYER\n",
      "INFLATION MACHINE\n",
      "\n",
      " \n",
      "\f",
      "\n"
     ]
    }
   ],
   "source": [
    "# 看最小＆最大相似度的標題\n",
    "score_type = 'f1-score'\n",
    "mini = df[df[score_type] == min(df[score_type])]\n",
    "maximum = df[df[score_type] == max(df[score_type])]\n",
    "with open('thumbnails_text.json','r',encoding='utf-8') as file:\n",
    "    thumb_text = json.load(file)\n",
    "file.close()\n",
    "\n",
    "print(\"標題:\", mini['title'].values[0], \"\\n縮圖:\" , thumb_text[mini['id'].values[0]])\n",
    "print('---------------------------------------------')\n",
    "print(\"標題:\", maximum['title'].values[0], \"\\n縮圖:\" , thumb_text[maximum['id'].values[0]])"
   ]
  }
 ],
 "metadata": {
  "kernelspec": {
   "display_name": "Python 3 (ipykernel)",
   "language": "python",
   "name": "python3"
  },
  "language_info": {
   "codemirror_mode": {
    "name": "ipython",
    "version": 3
   },
   "file_extension": ".py",
   "mimetype": "text/x-python",
   "name": "python",
   "nbconvert_exporter": "python",
   "pygments_lexer": "ipython3",
   "version": "3.7.9"
  }
 },
 "nbformat": 4,
 "nbformat_minor": 5
}
