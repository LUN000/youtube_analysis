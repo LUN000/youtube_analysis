{
 "cells": [
  {
   "cell_type": "code",
   "execution_count": 24,
   "id": "4beb899e",
   "metadata": {},
   "outputs": [],
   "source": [
    "from PIL import Image\n",
    "import matplotlib.pyplot as plt \n",
    "import pandas as pd\n",
    "import numpy as np\n",
    "import torch\n",
    "import torch.nn as nn\n",
    "import torch.nn.functional as F\n",
    "from torch.utils.data import Dataset\n",
    "import os"
   ]
  },
  {
   "cell_type": "markdown",
   "id": "1d7b9017",
   "metadata": {},
   "source": [
    "# DATASET"
   ]
  },
  {
   "cell_type": "code",
   "execution_count": 56,
   "id": "4692f548",
   "metadata": {},
   "outputs": [],
   "source": [
    "def mark_location(img_path, img_id):\n",
    "    location = []\n",
    "    file = pd.read_json(img_path + \"/\" + img_id + \".json\")\n",
    "    for annotations in file[\"annotations\"]:\n",
    "        for marks in annotations:\n",
    "            x = marks['coordinates']['x']\n",
    "            y = marks['coordinates']['y']\n",
    "            w = marks['coordinates']['width']\n",
    "            h = marks['coordinates']['height']\n",
    "            location.extend(\n",
    "                [(x-w/2, y-h/2),\n",
    "                (x-w/2, y+h/2),\n",
    "                (x+w/2, y-h/2),\n",
    "                (x+w/2, y+h/2)]\n",
    "            )\n",
    "    return np.asarray(location)    \n",
    "    \n",
    "class ImageDataset(Dataset):\n",
    "    def __init__(self, img_path, csv_path, transform=None):\n",
    "        self.img_path = img_path\n",
    "        self.csv = pd.read_csv(csv_path)\n",
    "        self.transform = transform\n",
    "        \n",
    "    def __len__(self):\n",
    "        return len(self.csv)\n",
    "    \n",
    "    def __getitem__(self, idx):\n",
    "        image_name = self.csv[\"id\"][idx]+\".jpg\"\n",
    "        image = os.path.join(self.img_path, image_name)\n",
    "        image = np.asarray(Image.open(image))\n",
    "        try:\n",
    "            mark = mark_location(self.img_path, image_name[:-4])\n",
    "        except:\n",
    "            mark = None\n",
    "        sample = {\"img\":image, \"mark\":mark}\n",
    "                        \n",
    "        if self.transform:\n",
    "            sample = self.transform(sample)\n",
    "        return sample\n",
    "                        \n",
    "img_path = \"../taitra_all/second_test/thumbnails\"\n",
    "csv_path = \"../taitra_all/second_test/表格資料_edit_meta.csv\"\n",
    "Data = ImageDataset(img_path, csv_path)"
   ]
  },
  {
   "cell_type": "code",
   "execution_count": 57,
   "id": "9fbd8256",
   "metadata": {},
   "outputs": [
    {
     "data": {
      "text/plain": [
       "{'img': array([[[204, 204, 204],\n",
       "         [204, 204, 204],\n",
       "         [204, 204, 204],\n",
       "         ...,\n",
       "         [204, 204, 204],\n",
       "         [204, 204, 204],\n",
       "         [204, 204, 204]],\n",
       " \n",
       "        [[204, 204, 204],\n",
       "         [204, 204, 204],\n",
       "         [204, 204, 204],\n",
       "         ...,\n",
       "         [204, 204, 204],\n",
       "         [204, 204, 204],\n",
       "         [204, 204, 204]],\n",
       " \n",
       "        [[204, 204, 204],\n",
       "         [204, 204, 204],\n",
       "         [204, 204, 204],\n",
       "         ...,\n",
       "         [204, 204, 204],\n",
       "         [204, 204, 204],\n",
       "         [204, 204, 204]],\n",
       " \n",
       "        ...,\n",
       " \n",
       "        [[204, 204, 204],\n",
       "         [204, 204, 204],\n",
       "         [204, 204, 204],\n",
       "         ...,\n",
       "         [204, 204, 204],\n",
       "         [204, 204, 204],\n",
       "         [204, 204, 204]],\n",
       " \n",
       "        [[204, 204, 204],\n",
       "         [204, 204, 204],\n",
       "         [204, 204, 204],\n",
       "         ...,\n",
       "         [204, 204, 204],\n",
       "         [204, 204, 204],\n",
       "         [204, 204, 204]],\n",
       " \n",
       "        [[204, 204, 204],\n",
       "         [204, 204, 204],\n",
       "         [204, 204, 204],\n",
       "         ...,\n",
       "         [204, 204, 204],\n",
       "         [204, 204, 204],\n",
       "         [204, 204, 204]]], dtype=uint8),\n",
       " 'mark': None}"
      ]
     },
     "execution_count": 57,
     "metadata": {},
     "output_type": "execute_result"
    }
   ],
   "source": [
    "def image_scatter(image, marks):\n",
    "    plt.imshow(image)\n",
    "    plt.scatter(marks[:, 0],marks[:, 1], c=\"r\")\n",
    "    plt.show()\n",
    "\n",
    "# for index in range(10):\n",
    "#     image = Data[index]\n",
    "#     image_scatter(image['img'], image['mark'])\n",
    "Data[2]"
   ]
  },
  {
   "cell_type": "markdown",
   "id": "aac0bc17",
   "metadata": {},
   "source": [
    "# MODEL"
   ]
  },
  {
   "cell_type": "code",
   "execution_count": null,
   "id": "63e93cce",
   "metadata": {},
   "outputs": [],
   "source": [
    "class Model(nn.Model):\n",
    "    def __init__(self):\n",
    "        super().__init__()\n",
    "        self.conv1 "
   ]
  }
 ],
 "metadata": {
  "kernelspec": {
   "display_name": "Python 3 (ipykernel)",
   "language": "python",
   "name": "python3"
  },
  "language_info": {
   "codemirror_mode": {
    "name": "ipython",
    "version": 3
   },
   "file_extension": ".py",
   "mimetype": "text/x-python",
   "name": "python",
   "nbconvert_exporter": "python",
   "pygments_lexer": "ipython3",
   "version": "3.7.9"
  }
 },
 "nbformat": 4,
 "nbformat_minor": 5
}
